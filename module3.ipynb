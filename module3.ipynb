{
 "cells": [
  {
   "cell_type": "markdown",
   "metadata": {},
   "source": [
    "# Module 3\n",
    "\n",
    "From Python institute course - https://edube.org/learn/pe-1/lab-the-print-function-6\n",
    "\n",
    "## 2.1.1.5 Your first program\n",
    "\n",
    "### The print() function\n",
    "\n",
    "    1. Python checks if the name specified is legal (it browses its internal data in order to find an existing function of the name; if this search fails, Python aborts the code);\n",
    "    2. Python checks if the function's requirements for the number of arguments allows you to invoke the function in this way (e.g., if a specific function demands exactly two arguments, any invocation delivering only one argument will be considered erroneous, and will abort the code's execution);\n",
    "    3. Python leaves your code for a moment and jumps into the function you want to invoke; of course, it takes your argument(s) too and passes it/them to the function;\n",
    "    4. the function executes its code, causes the desired effect (if any), evaluates the desired result(s) (if any) and finishes its task;\n",
    "    finally, Python returns to your code (to the place just after the invocation) and resumes its execution.\n"
   ]
  },
  {
   "cell_type": "code",
   "execution_count": 1,
   "metadata": {},
   "outputs": [
    {
     "name": "stdout",
     "output_type": "stream",
     "text": [
      "Hello, World!\n"
     ]
    }
   ],
   "source": [
    "print(\"Hello, World!\")"
   ]
  },
  {
   "cell_type": "markdown",
   "metadata": {},
   "source": [
    "## 2.1.1.6 LAB: The print() function\n",
    "\n",
    "### Objectives\n",
    "\n",
    "+ becoming familiar with the print() function and its formatting capabilities;\n",
    "+ experimenting with Python code.\n",
    "\n",
    "In your first lab:\n",
    "\n",
    "1. use the ```print```() function to print the line **Hello, Python!** to the screen. Use double quotes around the string;\n",
    "2. having done that, use the ```print```() function again, but this time print your **first name**;\n",
    "3. remove the double quotes and run your code. Watch Python's reaction. What kind of error is thrown?\n",
    "4. then, remove the parentheses, put back the double quotes, and run your code again. What kind of error is thrown this time?\n",
    "5. experiment as much as you can. Change double quotes to single quotes, use multiple print() functions on the same line, and then on different lines. See what happens.\n",
    "\n"
   ]
  },
  {
   "cell_type": "code",
   "execution_count": 2,
   "metadata": {},
   "outputs": [
    {
     "name": "stdout",
     "output_type": "stream",
     "text": [
      "Hello, Python!\n"
     ]
    }
   ],
   "source": [
    "print(\"Hello, Python!\")"
   ]
  },
  {
   "cell_type": "code",
   "execution_count": 3,
   "metadata": {},
   "outputs": [
    {
     "name": "stdout",
     "output_type": "stream",
     "text": [
      "Vincent\n"
     ]
    }
   ],
   "source": [
    "print(\"Vincent\")"
   ]
  },
  {
   "cell_type": "code",
   "execution_count": 4,
   "metadata": {},
   "outputs": [
    {
     "ename": "NameError",
     "evalue": "name 'Vincent' is not defined",
     "output_type": "error",
     "traceback": [
      "\u001b[0;31m---------------------------------------------------------------------------\u001b[0m",
      "\u001b[0;31mNameError\u001b[0m                                 Traceback (most recent call last)",
      "Cell \u001b[0;32mIn[4], line 1\u001b[0m\n\u001b[0;32m----> 1\u001b[0m \u001b[38;5;28mprint\u001b[39m(\u001b[43mVincent\u001b[49m)\n",
      "\u001b[0;31mNameError\u001b[0m: name 'Vincent' is not defined"
     ]
    }
   ],
   "source": [
    "print(Vincent)"
   ]
  },
  {
   "cell_type": "code",
   "execution_count": null,
   "metadata": {},
   "outputs": [],
   "source": []
  }
 ],
 "metadata": {
  "kernelspec": {
   "display_name": ".venv",
   "language": "python",
   "name": "python3"
  },
  "language_info": {
   "codemirror_mode": {
    "name": "ipython",
    "version": 3
   },
   "file_extension": ".py",
   "mimetype": "text/x-python",
   "name": "python",
   "nbconvert_exporter": "python",
   "pygments_lexer": "ipython3",
   "version": "3.11.7"
  }
 },
 "nbformat": 4,
 "nbformat_minor": 2
}
