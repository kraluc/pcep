{
 "cells": [
  {
   "cell_type": "markdown",
   "metadata": {},
   "source": [
    "# Module 3\n",
    "\n",
    "From Python institute course - https://edube.org/learn/pe-1/lab-the-print-function-6\n",
    "\n",
    "## 2.1.1.5 Your first program\n",
    "\n",
    "### The print() function\n",
    "\n",
    "    1. Python checks if the name specified is legal (it browses its internal data in order to find an existing function of the name; if this search fails, Python aborts the code);\n",
    "    2. Python checks if the function's requirements for the number of arguments allows you to invoke the function in this way (e.g., if a specific function demands exactly two arguments, any invocation delivering only one argument will be considered erroneous, and will abort the code's execution);\n",
    "    3. Python leaves your code for a moment and jumps into the function you want to invoke; of course, it takes your argument(s) too and passes it/them to the function;\n",
    "    4. the function executes its code, causes the desired effect (if any), evaluates the desired result(s) (if any) and finishes its task;\n",
    "    finally, Python returns to your code (to the place just after the invocation) and resumes its execution.\n"
   ]
  },
  {
   "cell_type": "code",
   "execution_count": 1,
   "metadata": {},
   "outputs": [
    {
     "name": "stdout",
     "output_type": "stream",
     "text": [
      "Hello, World!\n"
     ]
    }
   ],
   "source": [
    "print(\"Hello, World!\")"
   ]
  },
  {
   "cell_type": "markdown",
   "metadata": {},
   "source": [
    "## 2.1.1.6 LAB: The print() function\n",
    "\n",
    "### Objectives\n",
    "\n",
    "+ becoming familiar with the print() function and its formatting capabilities;\n",
    "+ experimenting with Python code.\n",
    "\n",
    "In your first lab:\n",
    "\n",
    "1. use the ```print```() function to print the line **Hello, Python!** to the screen. Use double quotes around the string;\n",
    "2. having done that, use the ```print```() function again, but this time print your **first name**;\n",
    "3. remove the double quotes and run your code. Watch Python's reaction. What kind of error is thrown?\n",
    "4. then, remove the parentheses, put back the double quotes, and run your code again. What kind of error is thrown this time?\n",
    "5. experiment as much as you can. Change double quotes to single quotes, use multiple print() functions on the same line, and then on different lines. See what happens.\n",
    "\n"
   ]
  },
  {
   "cell_type": "code",
   "execution_count": 2,
   "metadata": {},
   "outputs": [
    {
     "name": "stdout",
     "output_type": "stream",
     "text": [
      "Hello, Python!\n"
     ]
    }
   ],
   "source": [
    "print(\"Hello, Python!\")"
   ]
  },
  {
   "cell_type": "code",
   "execution_count": 3,
   "metadata": {},
   "outputs": [
    {
     "name": "stdout",
     "output_type": "stream",
     "text": [
      "Vincent\n"
     ]
    }
   ],
   "source": [
    "print(\"Vincent\")"
   ]
  },
  {
   "cell_type": "markdown",
   "metadata": {},
   "source": [
    "\\# Removing the double-quotes (or single quotes) causes a NameError because the variable is not defined."
   ]
  },
  {
   "cell_type": "code",
   "execution_count": 4,
   "metadata": {},
   "outputs": [
    {
     "ename": "NameError",
     "evalue": "name 'Vincent' is not defined",
     "output_type": "error",
     "traceback": [
      "\u001b[0;31m---------------------------------------------------------------------------\u001b[0m",
      "\u001b[0;31mNameError\u001b[0m                                 Traceback (most recent call last)",
      "Cell \u001b[0;32mIn[4], line 1\u001b[0m\n\u001b[0;32m----> 1\u001b[0m \u001b[38;5;28mprint\u001b[39m(\u001b[43mVincent\u001b[49m)\n",
      "\u001b[0;31mNameError\u001b[0m: name 'Vincent' is not defined"
     ]
    }
   ],
   "source": [
    "print(Vincent)"
   ]
  },
  {
   "cell_type": "markdown",
   "metadata": {},
   "source": [
    "\\# removing parenthesis causes a **SyntaxError**"
   ]
  },
  {
   "cell_type": "code",
   "execution_count": 5,
   "metadata": {},
   "outputs": [
    {
     "ename": "SyntaxError",
     "evalue": "Missing parentheses in call to 'print'. Did you mean print(...)? (2104123671.py, line 1)",
     "output_type": "error",
     "traceback": [
      "\u001b[0;36m  Cell \u001b[0;32mIn[5], line 1\u001b[0;36m\u001b[0m\n\u001b[0;31m    print \"Vincent\"\u001b[0m\n\u001b[0m    ^\u001b[0m\n\u001b[0;31mSyntaxError\u001b[0m\u001b[0;31m:\u001b[0m Missing parentheses in call to 'print'. Did you mean print(...)?\n"
     ]
    }
   ],
   "source": [
    "print \"Vincent\""
   ]
  },
  {
   "cell_type": "markdown",
   "metadata": {},
   "source": [
    "##  2.1.1.7 Your first program\n",
    "\n",
    "\n",
    "The print() function\n",
    "\n",
    "Three important questions have to be answered as soon as possible:\n",
    "\n",
    "1. What is the effect the ```print```() function causes?\n",
    "\n",
    "The effect is very useful and very spectacular. The function:\n",
    "\n",
    "+ takes its arguments (it may accept more than one argument and may also accept less than one argument)\n",
    "+ converts them into human-readable form if needed (as you may suspect, strings don't require this action, as the string is already readable)\n",
    "+ and sends the resulting data to the output device (usually the console); in other words, anything you put into the print() function will appear on your screen.\n",
    "\n",
    "No wonder then, that from now on, you'll utilize print() very intensively to see the results of your operations and evaluations.\n",
    "\n",
    "2. What arguments does ```print```() expect?\n",
    "\n",
    "Any. We'll show you soon that print() is able to operate with virtually all types of data offered by Python. Strings, numbers, characters, logical values, objects - any of these may be successfully passed to print().\n",
    "\n",
    "3. What value does the ```print```() function return?\n",
    "\n",
    "None. Its effect is enough.\n"
   ]
  },
  {
   "cell_type": "markdown",
   "metadata": {},
   "source": [
    "##  2.1.1.8 Your very first program: the ```print```() function - instructions\n",
    "\n",
    "You have already seen a computer program that contains one function invocation. A function invocation is one of many possible kinds of Python instructions.\n",
    "\n",
    "Of course, any complex program usually contains many more instructions than one. The question is: how do you couple more than one instruction into the Python code?\n",
    "\n",
    "Python's syntax is quite specific in this area. Unlike most programming languages, Python requires that there cannot be more than one instruction in a line.\n",
    "\n",
    "**A line can be empty** (i.e., it may contain no instruction at all) but it must not contain two, three or more instructions. This is strictly prohibited.\n",
    "\n",
    "Note: Python makes one exception to this rule - it allows **one instruction** to spread across ***more than one line*** (which may be helpful when your code contains complex constructions).\n",
    "\n",
    "Let's expand the code a bit, you can see it in the editor. Run it and note what you see in the console.\n",
    "\n",
    "Your Python console should now look like this:\n",
    "\n",
    "```\n",
    "The itsy bitsy spider climbed up the waterspout.\n",
    "Down came the rain and washed the spider out.\n",
    "```\n",
    "\n",
    "This is a good opportunity to make some observations:\n",
    "\n",
    "1. the program invokes the print() function twice, and you can see two separate lines in the console - this means that print() begins its output from a new line each time it starts its execution; you can change this behavior, but you can also use it to your advantage;\n",
    "   \n",
    "2. each print() invocation contains a different string, as its argument and the console content reflects it - this means that the instructions in the code are executed in the same order in which they have been placed in the source file; no next instruction is executed until the previous one is completed (there are some exceptions to this rule, but you can ignore them for now)\n"
   ]
  },
  {
   "cell_type": "code",
   "execution_count": 6,
   "metadata": {},
   "outputs": [
    {
     "name": "stdout",
     "output_type": "stream",
     "text": [
      "The itsy bitsy spider climbed up the waterspout.\n",
      "Down came the rain and washed the spider out.\n"
     ]
    }
   ],
   "source": [
    "print(\"The itsy bitsy spider climbed up the waterspout.\\nDown came the rain and washed the spider out.\")"
   ]
  },
  {
   "cell_type": "code",
   "execution_count": 7,
   "metadata": {},
   "outputs": [
    {
     "name": "stdout",
     "output_type": "stream",
     "text": [
      "The itsy bitsy spider climbed up the waterspout.\n",
      "Down came the rain and washed the spider out.\n"
     ]
    }
   ],
   "source": [
    "print(\"The itsy bitsy spider climbed up the waterspout.\",\"Down came the rain and washed the spider out.\",sep='\\n')"
   ]
  },
  {
   "cell_type": "markdown",
   "metadata": {},
   "source": [
    "## 2.1.1.9 Your very first program\n",
    "\n",
    "We've changed the example a bit - we've **added one empty ```print```() function invocation**. We call it empty because we haven't delivered any arguments to the function.\n",
    "\n",
    "You can see it in the editor window. Run the code.\n",
    "\n",
    "**What happens?**\n",
    "\n",
    "If everything goes right, you should see something like this:\n",
    "\n",
    "```\n",
    "The itsy bitsy spider climbed up the waterspout.\n",
    "\n",
    "Down came the rain and washed the spider out.\n",
    "\n",
    "output\n",
    "```\n",
    "\n",
    "As you can see, the **empty** ```print```() invocation is not as empty as you may have expected - it does output an empty line, or (this interpretation is also correct) its output is just a newline.\n",
    "\n",
    "This is not the only way to produce a newline in the output console. We're now going to show you another way."
   ]
  },
  {
   "cell_type": "code",
   "execution_count": 8,
   "metadata": {},
   "outputs": [
    {
     "name": "stdout",
     "output_type": "stream",
     "text": [
      "The itsy bitsy spider climbed up the waterspout.\n",
      "\n",
      "Down came the rain and washed the spider out.\n"
     ]
    }
   ],
   "source": [
    "print(\"The itsy bitsy spider climbed up the waterspout.\")\n",
    "print()\n",
    "print(\"Down came the rain and washed the spider out.\")"
   ]
  },
  {
   "cell_type": "markdown",
   "metadata": {},
   "source": [
    "\\# Same as defininig the separator sep='\\n\\n' and printing both strings at once"
   ]
  },
  {
   "cell_type": "code",
   "execution_count": 9,
   "metadata": {},
   "outputs": [
    {
     "name": "stdout",
     "output_type": "stream",
     "text": [
      "The itsy bitsy spider climbed up the waterspout.\n",
      "\n",
      "Down came the rain and washed the spider out.\n"
     ]
    }
   ],
   "source": [
    "print(\"The itsy bitsy spider climbed up the waterspout.\",\"Down came the rain and washed the spider out.\",sep='\\n\\n')\n"
   ]
  }
 ],
 "metadata": {
  "kernelspec": {
   "display_name": ".venv",
   "language": "python",
   "name": "python3"
  },
  "language_info": {
   "codemirror_mode": {
    "name": "ipython",
    "version": 3
   },
   "file_extension": ".py",
   "mimetype": "text/x-python",
   "name": "python",
   "nbconvert_exporter": "python",
   "pygments_lexer": "ipython3",
   "version": "3.11.7"
  }
 },
 "nbformat": 4,
 "nbformat_minor": 2
}
